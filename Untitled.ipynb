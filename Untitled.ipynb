{
 "cells": [
  {
   "cell_type": "code",
   "execution_count": 1,
   "metadata": {},
   "outputs": [],
   "source": [
    "import pandas as pd\n",
    "import numpy as np\n",
    "import seaborn as sns\n",
    "import matplotlib.pyplot as plt"
   ]
  },
  {
   "cell_type": "code",
   "execution_count": 229,
   "metadata": {},
   "outputs": [],
   "source": [
    "df=pd.read_csv('datafinal8.csv')\n",
    "\n",
    "\n",
    "\n",
    "\n"
   ]
  },
  {
   "cell_type": "code",
   "execution_count": 230,
   "metadata": {},
   "outputs": [
    {
     "data": {
      "text/html": [
       "<div>\n",
       "<style scoped>\n",
       "    .dataframe tbody tr th:only-of-type {\n",
       "        vertical-align: middle;\n",
       "    }\n",
       "\n",
       "    .dataframe tbody tr th {\n",
       "        vertical-align: top;\n",
       "    }\n",
       "\n",
       "    .dataframe thead th {\n",
       "        text-align: right;\n",
       "    }\n",
       "</style>\n",
       "<table border=\"1\" class=\"dataframe\">\n",
       "  <thead>\n",
       "    <tr style=\"text-align: right;\">\n",
       "      <th></th>\n",
       "      <th>Position</th>\n",
       "      <th>Title</th>\n",
       "      <th>IMDb Rating</th>\n",
       "      <th>Runtime (mins)</th>\n",
       "      <th>Year</th>\n",
       "      <th>Genre</th>\n",
       "      <th>gross</th>\n",
       "      <th>net</th>\n",
       "      <th>share</th>\n",
       "      <th>rights</th>\n",
       "      <th>distributor's share</th>\n",
       "      <th>verdict</th>\n",
       "    </tr>\n",
       "  </thead>\n",
       "  <tbody>\n",
       "    <tr>\n",
       "      <th>0</th>\n",
       "      <td>1</td>\n",
       "      <td>Baahubali 2: The Conclusion</td>\n",
       "      <td>8.2</td>\n",
       "      <td>167</td>\n",
       "      <td>2017</td>\n",
       "      <td>Drama</td>\n",
       "      <td>150.0</td>\n",
       "      <td>122.10</td>\n",
       "      <td>80.0</td>\n",
       "      <td>49.6</td>\n",
       "      <td>30.4</td>\n",
       "      <td>BLOCKBUSTER</td>\n",
       "    </tr>\n",
       "    <tr>\n",
       "      <th>1</th>\n",
       "      <td>2</td>\n",
       "      <td>Viswasam</td>\n",
       "      <td>6.7</td>\n",
       "      <td>153</td>\n",
       "      <td>2019</td>\n",
       "      <td>Drama</td>\n",
       "      <td>140.5</td>\n",
       "      <td>120.80</td>\n",
       "      <td>77.5</td>\n",
       "      <td>52.5</td>\n",
       "      <td>25.0</td>\n",
       "      <td>HIT</td>\n",
       "    </tr>\n",
       "    <tr>\n",
       "      <th>2</th>\n",
       "      <td>3</td>\n",
       "      <td>2</td>\n",
       "      <td>6.3</td>\n",
       "      <td>148</td>\n",
       "      <td>2018</td>\n",
       "      <td>Sci-Fi</td>\n",
       "      <td>128.5</td>\n",
       "      <td>94.50</td>\n",
       "      <td>64.0</td>\n",
       "      <td>106.1</td>\n",
       "      <td>17.0</td>\n",
       "      <td>AVERAGE</td>\n",
       "    </tr>\n",
       "    <tr>\n",
       "      <th>3</th>\n",
       "      <td>4</td>\n",
       "      <td>Petta</td>\n",
       "      <td>7.3</td>\n",
       "      <td>171</td>\n",
       "      <td>2019</td>\n",
       "      <td>Action</td>\n",
       "      <td>117.5</td>\n",
       "      <td>94.50</td>\n",
       "      <td>62.5</td>\n",
       "      <td>55.0</td>\n",
       "      <td>7.5</td>\n",
       "      <td>HIT</td>\n",
       "    </tr>\n",
       "    <tr>\n",
       "      <th>4</th>\n",
       "      <td>5</td>\n",
       "      <td>Enthiran</td>\n",
       "      <td>7.1</td>\n",
       "      <td>155</td>\n",
       "      <td>2010</td>\n",
       "      <td>Sci-Fi</td>\n",
       "      <td>105.0</td>\n",
       "      <td>NaN</td>\n",
       "      <td>64.5</td>\n",
       "      <td>50.0</td>\n",
       "      <td>14.5</td>\n",
       "      <td>BLOCKBUSTER</td>\n",
       "    </tr>\n",
       "    <tr>\n",
       "      <th>5</th>\n",
       "      <td>6</td>\n",
       "      <td>Darbar</td>\n",
       "      <td>6.3</td>\n",
       "      <td>159</td>\n",
       "      <td>2020</td>\n",
       "      <td>Action</td>\n",
       "      <td>96.0</td>\n",
       "      <td>78.40</td>\n",
       "      <td>51.0</td>\n",
       "      <td>65.0</td>\n",
       "      <td>-14.0</td>\n",
       "      <td>AVERAGE</td>\n",
       "    </tr>\n",
       "    <tr>\n",
       "      <th>6</th>\n",
       "      <td>7</td>\n",
       "      <td>Mersal</td>\n",
       "      <td>7.7</td>\n",
       "      <td>172</td>\n",
       "      <td>2017</td>\n",
       "      <td>Thriller</td>\n",
       "      <td>96.0</td>\n",
       "      <td>72.00</td>\n",
       "      <td>48.0</td>\n",
       "      <td>45.5</td>\n",
       "      <td>2.5</td>\n",
       "      <td>HIT</td>\n",
       "    </tr>\n",
       "    <tr>\n",
       "      <th>7</th>\n",
       "      <td>8</td>\n",
       "      <td>Bigil</td>\n",
       "      <td>6.9</td>\n",
       "      <td>179</td>\n",
       "      <td>2019</td>\n",
       "      <td>Drama</td>\n",
       "      <td>91.0</td>\n",
       "      <td>74.30</td>\n",
       "      <td>49.0</td>\n",
       "      <td>73.0</td>\n",
       "      <td>-23.0</td>\n",
       "      <td>DISASTER</td>\n",
       "    </tr>\n",
       "    <tr>\n",
       "      <th>8</th>\n",
       "      <td>9</td>\n",
       "      <td>Sarkar</td>\n",
       "      <td>6.8</td>\n",
       "      <td>163</td>\n",
       "      <td>2018</td>\n",
       "      <td>Action</td>\n",
       "      <td>87.0</td>\n",
       "      <td>69.00</td>\n",
       "      <td>47.3</td>\n",
       "      <td>68.3</td>\n",
       "      <td>-20.3</td>\n",
       "      <td>DISASTER</td>\n",
       "    </tr>\n",
       "    <tr>\n",
       "      <th>9</th>\n",
       "      <td>10</td>\n",
       "      <td>Vedalam</td>\n",
       "      <td>6.2</td>\n",
       "      <td>148</td>\n",
       "      <td>2015</td>\n",
       "      <td>Action</td>\n",
       "      <td>84.7</td>\n",
       "      <td>NaN</td>\n",
       "      <td>50.7</td>\n",
       "      <td>35.3</td>\n",
       "      <td>15.4</td>\n",
       "      <td>BLOCKBUSTER</td>\n",
       "    </tr>\n",
       "    <tr>\n",
       "      <th>10</th>\n",
       "      <td>11</td>\n",
       "      <td>Vivegam</td>\n",
       "      <td>5.7</td>\n",
       "      <td>149</td>\n",
       "      <td>2017</td>\n",
       "      <td>Thriller</td>\n",
       "      <td>84.0</td>\n",
       "      <td>68.30</td>\n",
       "      <td>44.6</td>\n",
       "      <td>54.7</td>\n",
       "      <td>-10.1</td>\n",
       "      <td>AVERAGE</td>\n",
       "    </tr>\n",
       "    <tr>\n",
       "      <th>11</th>\n",
       "      <td>12</td>\n",
       "      <td>Kabali</td>\n",
       "      <td>6.2</td>\n",
       "      <td>153</td>\n",
       "      <td>2016</td>\n",
       "      <td>Drama</td>\n",
       "      <td>83.0</td>\n",
       "      <td>NaN</td>\n",
       "      <td>50.0</td>\n",
       "      <td>68.5</td>\n",
       "      <td>-18.5</td>\n",
       "      <td>FLOP</td>\n",
       "    </tr>\n",
       "    <tr>\n",
       "      <th>12</th>\n",
       "      <td>13</td>\n",
       "      <td>Nerkonda Paarvai</td>\n",
       "      <td>8.2</td>\n",
       "      <td>157</td>\n",
       "      <td>2019</td>\n",
       "      <td>Drama</td>\n",
       "      <td>78.7</td>\n",
       "      <td>64.80</td>\n",
       "      <td>43.8</td>\n",
       "      <td>41.5</td>\n",
       "      <td>2.3</td>\n",
       "      <td>HIT</td>\n",
       "    </tr>\n",
       "    <tr>\n",
       "      <th>13</th>\n",
       "      <td>14</td>\n",
       "      <td>I</td>\n",
       "      <td>7.3</td>\n",
       "      <td>188</td>\n",
       "      <td>2015</td>\n",
       "      <td>Thriller</td>\n",
       "      <td>78.0</td>\n",
       "      <td>61.00</td>\n",
       "      <td>36.5</td>\n",
       "      <td>33.3</td>\n",
       "      <td>3.2</td>\n",
       "      <td>HIT</td>\n",
       "    </tr>\n",
       "    <tr>\n",
       "      <th>14</th>\n",
       "      <td>15</td>\n",
       "      <td>Thuppakki</td>\n",
       "      <td>7.9</td>\n",
       "      <td>165</td>\n",
       "      <td>2012</td>\n",
       "      <td>Action</td>\n",
       "      <td>72.0</td>\n",
       "      <td>NaN</td>\n",
       "      <td>44.6</td>\n",
       "      <td>38.0</td>\n",
       "      <td>6.6</td>\n",
       "      <td>BLOCKBUSTER</td>\n",
       "    </tr>\n",
       "    <tr>\n",
       "      <th>15</th>\n",
       "      <td>16</td>\n",
       "      <td>Kaala</td>\n",
       "      <td>6.7</td>\n",
       "      <td>162</td>\n",
       "      <td>2018</td>\n",
       "      <td>Drama</td>\n",
       "      <td>68.0</td>\n",
       "      <td>52.70</td>\n",
       "      <td>35.4</td>\n",
       "      <td>59.0</td>\n",
       "      <td>5.8</td>\n",
       "      <td>AVERAGE</td>\n",
       "    </tr>\n",
       "    <tr>\n",
       "      <th>16</th>\n",
       "      <td>17</td>\n",
       "      <td>Sivaji</td>\n",
       "      <td>7.5</td>\n",
       "      <td>188</td>\n",
       "      <td>2007</td>\n",
       "      <td>Action</td>\n",
       "      <td>65.0</td>\n",
       "      <td>NaN</td>\n",
       "      <td>37.3</td>\n",
       "      <td>30.0</td>\n",
       "      <td>7.3</td>\n",
       "      <td>BLOCKBUSTER</td>\n",
       "    </tr>\n",
       "    <tr>\n",
       "      <th>17</th>\n",
       "      <td>18</td>\n",
       "      <td>Baahubali: The Beginning</td>\n",
       "      <td>8.1</td>\n",
       "      <td>159</td>\n",
       "      <td>2015</td>\n",
       "      <td>Drama</td>\n",
       "      <td>64.0</td>\n",
       "      <td>52.30</td>\n",
       "      <td>32.5</td>\n",
       "      <td>20.0</td>\n",
       "      <td>12.5</td>\n",
       "      <td>BLOCKBUSTER</td>\n",
       "    </tr>\n",
       "    <tr>\n",
       "      <th>18</th>\n",
       "      <td>19</td>\n",
       "      <td>Arrambam</td>\n",
       "      <td>7.1</td>\n",
       "      <td>157</td>\n",
       "      <td>2013</td>\n",
       "      <td>Action</td>\n",
       "      <td>63.0</td>\n",
       "      <td>NaN</td>\n",
       "      <td>40.0</td>\n",
       "      <td>35.0</td>\n",
       "      <td>5.0</td>\n",
       "      <td>BLOCKBUSTER</td>\n",
       "    </tr>\n",
       "    <tr>\n",
       "      <th>19</th>\n",
       "      <td>20</td>\n",
       "      <td>Singam 2</td>\n",
       "      <td>6.3</td>\n",
       "      <td>166</td>\n",
       "      <td>2013</td>\n",
       "      <td>Action</td>\n",
       "      <td>63.0</td>\n",
       "      <td>NaN</td>\n",
       "      <td>39.4</td>\n",
       "      <td>34.0</td>\n",
       "      <td>5.4</td>\n",
       "      <td>BLOCKBUSTER</td>\n",
       "    </tr>\n",
       "    <tr>\n",
       "      <th>20</th>\n",
       "      <td>21</td>\n",
       "      <td>Kanchana 3</td>\n",
       "      <td>4.2</td>\n",
       "      <td>164</td>\n",
       "      <td>2019</td>\n",
       "      <td>Comedy</td>\n",
       "      <td>62.0</td>\n",
       "      <td>50.65</td>\n",
       "      <td>34.0</td>\n",
       "      <td>30.0</td>\n",
       "      <td>4.0</td>\n",
       "      <td>BLOCKBUSTER</td>\n",
       "    </tr>\n",
       "    <tr>\n",
       "      <th>21</th>\n",
       "      <td>22</td>\n",
       "      <td>Veeram</td>\n",
       "      <td>6.5</td>\n",
       "      <td>161</td>\n",
       "      <td>2014</td>\n",
       "      <td>Action</td>\n",
       "      <td>61.7</td>\n",
       "      <td>53.00</td>\n",
       "      <td>36.0</td>\n",
       "      <td>31.0</td>\n",
       "      <td>5.0</td>\n",
       "      <td>BLOCKBUSTER</td>\n",
       "    </tr>\n",
       "    <tr>\n",
       "      <th>22</th>\n",
       "      <td>23</td>\n",
       "      <td>Mankatha</td>\n",
       "      <td>7.6</td>\n",
       "      <td>155</td>\n",
       "      <td>2011</td>\n",
       "      <td>Thriller</td>\n",
       "      <td>60.0</td>\n",
       "      <td>48.50</td>\n",
       "      <td>31.7</td>\n",
       "      <td>21.0</td>\n",
       "      <td>10.7</td>\n",
       "      <td>BLOCKBUSTER</td>\n",
       "    </tr>\n",
       "    <tr>\n",
       "      <th>23</th>\n",
       "      <td>24</td>\n",
       "      <td>Namma Veettu Pillai</td>\n",
       "      <td>6.1</td>\n",
       "      <td>153</td>\n",
       "      <td>2019</td>\n",
       "      <td>Comedy</td>\n",
       "      <td>60.0</td>\n",
       "      <td>51.60</td>\n",
       "      <td>35.8</td>\n",
       "      <td>28.1</td>\n",
       "      <td>7.7</td>\n",
       "      <td>BLOCKBUSTER</td>\n",
       "    </tr>\n",
       "    <tr>\n",
       "      <th>24</th>\n",
       "      <td>25</td>\n",
       "      <td>Kaithi</td>\n",
       "      <td>8.6</td>\n",
       "      <td>145</td>\n",
       "      <td>2019</td>\n",
       "      <td>Action</td>\n",
       "      <td>60.0</td>\n",
       "      <td>49.00</td>\n",
       "      <td>32.3</td>\n",
       "      <td>15.0</td>\n",
       "      <td>17.3</td>\n",
       "      <td>BLOCKBUSTER</td>\n",
       "    </tr>\n",
       "    <tr>\n",
       "      <th>25</th>\n",
       "      <td>26</td>\n",
       "      <td>Theri</td>\n",
       "      <td>7.1</td>\n",
       "      <td>157</td>\n",
       "      <td>2016</td>\n",
       "      <td>Drama</td>\n",
       "      <td>59.6</td>\n",
       "      <td>NaN</td>\n",
       "      <td>38.7</td>\n",
       "      <td>46.0</td>\n",
       "      <td>-7.3</td>\n",
       "      <td>AVERAGE</td>\n",
       "    </tr>\n",
       "    <tr>\n",
       "      <th>26</th>\n",
       "      <td>27</td>\n",
       "      <td>Kaththi</td>\n",
       "      <td>7.9</td>\n",
       "      <td>166</td>\n",
       "      <td>2014</td>\n",
       "      <td>Action</td>\n",
       "      <td>59.5</td>\n",
       "      <td>NaN</td>\n",
       "      <td>37.4</td>\n",
       "      <td>39.0</td>\n",
       "      <td>-1.6</td>\n",
       "      <td>AVERAGE</td>\n",
       "    </tr>\n",
       "    <tr>\n",
       "      <th>27</th>\n",
       "      <td>28</td>\n",
       "      <td>Velaikkaran</td>\n",
       "      <td>7.4</td>\n",
       "      <td>160</td>\n",
       "      <td>2017</td>\n",
       "      <td>Thriller</td>\n",
       "      <td>58.0</td>\n",
       "      <td>44.20</td>\n",
       "      <td>29.4</td>\n",
       "      <td>38.0</td>\n",
       "      <td>-8.6</td>\n",
       "      <td>FLOP</td>\n",
       "    </tr>\n",
       "    <tr>\n",
       "      <th>28</th>\n",
       "      <td>29</td>\n",
       "      <td>Yennai Arindhaal</td>\n",
       "      <td>7.3</td>\n",
       "      <td>168</td>\n",
       "      <td>2015</td>\n",
       "      <td>Thriller</td>\n",
       "      <td>57.5</td>\n",
       "      <td>46.00</td>\n",
       "      <td>29.0</td>\n",
       "      <td>35.0</td>\n",
       "      <td>-1.5</td>\n",
       "      <td>AVERAGE</td>\n",
       "    </tr>\n",
       "    <tr>\n",
       "      <th>29</th>\n",
       "      <td>30</td>\n",
       "      <td>Kanchana 2</td>\n",
       "      <td>5.5</td>\n",
       "      <td>166</td>\n",
       "      <td>2015</td>\n",
       "      <td>Comedy</td>\n",
       "      <td>52.5</td>\n",
       "      <td>43.80</td>\n",
       "      <td>28.3</td>\n",
       "      <td>17.5</td>\n",
       "      <td>10.8</td>\n",
       "      <td>BLOCKBUSTER</td>\n",
       "    </tr>\n",
       "  </tbody>\n",
       "</table>\n",
       "</div>"
      ],
      "text/plain": [
       "    Position                        Title  IMDb Rating  Runtime (mins)  Year  \\\n",
       "0          1  Baahubali 2: The Conclusion          8.2             167  2017   \n",
       "1          2                     Viswasam          6.7             153  2019   \n",
       "2          3                            2          6.3             148  2018   \n",
       "3          4                        Petta          7.3             171  2019   \n",
       "4          5                     Enthiran          7.1             155  2010   \n",
       "5          6                       Darbar          6.3             159  2020   \n",
       "6          7                       Mersal          7.7             172  2017   \n",
       "7          8                        Bigil          6.9             179  2019   \n",
       "8          9                       Sarkar          6.8             163  2018   \n",
       "9         10                      Vedalam          6.2             148  2015   \n",
       "10        11                      Vivegam          5.7             149  2017   \n",
       "11        12                       Kabali          6.2             153  2016   \n",
       "12        13             Nerkonda Paarvai          8.2             157  2019   \n",
       "13        14                            I          7.3             188  2015   \n",
       "14        15                    Thuppakki          7.9             165  2012   \n",
       "15        16                        Kaala          6.7             162  2018   \n",
       "16        17                       Sivaji          7.5             188  2007   \n",
       "17        18     Baahubali: The Beginning          8.1             159  2015   \n",
       "18        19                     Arrambam          7.1             157  2013   \n",
       "19        20                     Singam 2          6.3             166  2013   \n",
       "20        21                   Kanchana 3          4.2             164  2019   \n",
       "21        22                       Veeram          6.5             161  2014   \n",
       "22        23                     Mankatha          7.6             155  2011   \n",
       "23        24          Namma Veettu Pillai          6.1             153  2019   \n",
       "24        25                       Kaithi          8.6             145  2019   \n",
       "25        26                        Theri          7.1             157  2016   \n",
       "26        27                      Kaththi          7.9             166  2014   \n",
       "27        28                  Velaikkaran          7.4             160  2017   \n",
       "28        29             Yennai Arindhaal          7.3             168  2015   \n",
       "29        30                   Kanchana 2          5.5             166  2015   \n",
       "\n",
       "       Genre  gross     net  share  rights  distributor's share      verdict  \n",
       "0      Drama  150.0  122.10   80.0    49.6                 30.4  BLOCKBUSTER  \n",
       "1      Drama  140.5  120.80   77.5    52.5                 25.0          HIT  \n",
       "2     Sci-Fi  128.5   94.50   64.0   106.1                 17.0      AVERAGE  \n",
       "3     Action  117.5   94.50   62.5    55.0                  7.5          HIT  \n",
       "4     Sci-Fi  105.0     NaN   64.5    50.0                 14.5  BLOCKBUSTER  \n",
       "5     Action   96.0   78.40   51.0    65.0                -14.0      AVERAGE  \n",
       "6   Thriller   96.0   72.00   48.0    45.5                  2.5          HIT  \n",
       "7      Drama   91.0   74.30   49.0    73.0                -23.0     DISASTER  \n",
       "8     Action   87.0   69.00   47.3    68.3                -20.3     DISASTER  \n",
       "9     Action   84.7     NaN   50.7    35.3                 15.4  BLOCKBUSTER  \n",
       "10  Thriller   84.0   68.30   44.6    54.7                -10.1      AVERAGE  \n",
       "11     Drama   83.0     NaN   50.0    68.5                -18.5         FLOP  \n",
       "12     Drama   78.7   64.80   43.8    41.5                  2.3          HIT  \n",
       "13  Thriller   78.0   61.00   36.5    33.3                  3.2          HIT  \n",
       "14    Action   72.0     NaN   44.6    38.0                  6.6  BLOCKBUSTER  \n",
       "15     Drama   68.0   52.70   35.4    59.0                  5.8      AVERAGE  \n",
       "16    Action   65.0     NaN   37.3    30.0                  7.3  BLOCKBUSTER  \n",
       "17     Drama   64.0   52.30   32.5    20.0                 12.5  BLOCKBUSTER  \n",
       "18    Action   63.0     NaN   40.0    35.0                  5.0  BLOCKBUSTER  \n",
       "19    Action   63.0     NaN   39.4    34.0                  5.4  BLOCKBUSTER  \n",
       "20    Comedy   62.0   50.65   34.0    30.0                  4.0  BLOCKBUSTER  \n",
       "21    Action   61.7   53.00   36.0    31.0                  5.0  BLOCKBUSTER  \n",
       "22  Thriller   60.0   48.50   31.7    21.0                 10.7  BLOCKBUSTER  \n",
       "23    Comedy   60.0   51.60   35.8    28.1                  7.7  BLOCKBUSTER  \n",
       "24    Action   60.0   49.00   32.3    15.0                 17.3  BLOCKBUSTER  \n",
       "25     Drama   59.6     NaN   38.7    46.0                 -7.3      AVERAGE  \n",
       "26    Action   59.5     NaN   37.4    39.0                 -1.6      AVERAGE  \n",
       "27  Thriller   58.0   44.20   29.4    38.0                 -8.6         FLOP  \n",
       "28  Thriller   57.5   46.00   29.0    35.0                 -1.5      AVERAGE  \n",
       "29    Comedy   52.5   43.80   28.3    17.5                 10.8  BLOCKBUSTER  "
      ]
     },
     "execution_count": 230,
     "metadata": {},
     "output_type": "execute_result"
    }
   ],
   "source": [
    "df.head(30)"
   ]
  },
  {
   "cell_type": "code",
   "execution_count": 231,
   "metadata": {},
   "outputs": [
    {
     "data": {
      "text/plain": [
       "Position                0\n",
       "Title                   0\n",
       "IMDb Rating             0\n",
       "Runtime (mins)          0\n",
       "Year                    0\n",
       "Genre                   0\n",
       "gross                   0\n",
       "net                    10\n",
       "share                   0\n",
       "rights                  0\n",
       "distributor's share     0\n",
       "verdict                 0\n",
       "dtype: int64"
      ]
     },
     "execution_count": 231,
     "metadata": {},
     "output_type": "execute_result"
    }
   ],
   "source": [
    "df.isnull().sum()"
   ]
  },
  {
   "cell_type": "code",
   "execution_count": 232,
   "metadata": {},
   "outputs": [
    {
     "data": {
      "text/plain": [
       "<matplotlib.axes._subplots.AxesSubplot at 0x2201c4d7d30>"
      ]
     },
     "execution_count": 232,
     "metadata": {},
     "output_type": "execute_result"
    },
    {
     "data": {
      "image/png": "[encoded data removed]",
      "text/plain": [
       "<Figure size 432x288 with 1 Axes>"
      ]
     },
     "metadata": {
      "needs_background": "light"
     },
     "output_type": "display_data"
    }
   ],
   "source": [
    "sns.heatmap(df.isnull(),yticklabels=False,cbar=False,cmap='viridis')"
   ]
  },
  {
   "cell_type": "code",
   "execution_count": null,
   "metadata": {},
   "outputs": [],
   "source": [
    "#It can be seen the columns= net is having lot of Null values"
   ]
  },
  {
   "cell_type": "code",
   "execution_count": 233,
   "metadata": {},
   "outputs": [
    {
     "data": {
      "image/png": "[encoded data removed]",
      "text/plain": [
       "<Figure size 432x288 with 1 Axes>"
      ]
     },
     "metadata": {
      "needs_background": "light"
     },
     "output_type": "display_data"
    }
   ],
   "source": [
    "y=df[\"gross\"]\n",
    "x=df[\"Position\"]\n",
    "plt.scatter(x,y)\n",
    "\n",
    "y=df[\"net\"]\n",
    "x=df[\"Position\"]\n",
    "plt.scatter(x,y)\n",
    "plt.show()\n",
    "\n",
    "\n"
   ]
  },
  {
   "cell_type": "code",
   "execution_count": 234,
   "metadata": {},
   "outputs": [],
   "source": [
    "#from the heatmap it is clear that there are lot of null values in \"net\" column, and from the above scatter plot it\n",
    "#can be seen that both \"net\" and \"gross\" vary similarly , so to get the null values of \"net\" column the ratio of gross and \n",
    "#net can be used"
   ]
  },
  {
   "cell_type": "code",
   "execution_count": 235,
   "metadata": {},
   "outputs": [],
   "source": [
    "df[\"Year\"]=df[\"Year\"].astype(\"category\")\n",
    "df[\"verdict\"]=df[\"verdict\"].astype(\"category\")\n",
    "df[\"Genre\"]=df[\"Genre\"].astype(\"category\")\n"
   ]
  },
  {
   "cell_type": "code",
   "execution_count": 236,
   "metadata": {},
   "outputs": [
    {
     "name": "stderr",
     "output_type": "stream",
     "text": [
      "C:\\Users\\ABISHEK ARJUN AV\\Anaconda3\\lib\\site-packages\\ipykernel_launcher.py:8: SettingWithCopyWarning: \n",
      "A value is trying to be set on a copy of a slice from a DataFrame\n",
      "\n",
      "See the caveats in the documentation: http://pandas.pydata.org/pandas-docs/stable/indexing.html#indexing-view-versus-copy\n",
      "  \n"
     ]
    }
   ],
   "source": [
    "l=[]\n",
    "l=df[\"net\"]/df[\"gross\"]\n",
    "\n",
    "netmean=np.mean(l)\n",
    "\n",
    "for ind in df.index: \n",
    "    if(np.isnan(df['net'][ind])):\n",
    "        df['net'][ind]= netmean*df['gross'][ind]\n",
    "    \n"
   ]
  },
  {
   "cell_type": "code",
   "execution_count": 241,
   "metadata": {},
   "outputs": [
    {
     "data": {
      "text/plain": [
       "<matplotlib.axes._subplots.AxesSubplot at 0x2201c47e518>"
      ]
     },
     "execution_count": 241,
     "metadata": {},
     "output_type": "execute_result"
    },
    {
     "data": {
      "image/png": "[encoded data removed]",
      "text/plain": [
       "<Figure size 432x288 with 1 Axes>"
      ]
     },
     "metadata": {
      "needs_background": "light"
     },
     "output_type": "display_data"
    }
   ],
   "source": [
    "sns.heatmap(df.isnull(),yticklabels=False,cbar=False,cmap='viridis')"
   ]
  },
  {
   "cell_type": "code",
   "execution_count": null,
   "metadata": {},
   "outputs": [],
   "source": [
    "#the null values have been replaced"
   ]
  },
  {
   "cell_type": "code",
   "execution_count": 238,
   "metadata": {},
   "outputs": [],
   "source": [
    "#A movie's success varies for different persons for normal people(audience) ,it is how they enjoy the movie,But in places like \n",
    "#TamilNadu where, Cinema is a Huge business and many persons(distributors ,theatre owners) life depends on this, the factor"
   ]
  },
  {
   "cell_type": "code",
   "execution_count": 240,
   "metadata": {},
   "outputs": [
    {
     "data": {
      "text/plain": [
       "<seaborn.axisgrid.FacetGrid at 0x2201d7aa710>"
      ]
     },
     "execution_count": 240,
     "metadata": {},
     "output_type": "execute_result"
    },
    {
     "data": {
      "image/png": "[encoded data removed]",
      "text/plain": [
       "<Figure size 360x360 with 1 Axes>"
      ]
     },
     "metadata": {
      "needs_background": "light"
     },
     "output_type": "display_data"
    }
   ],
   "source": [
    "df[\"ratio\"]=(df[\"distributor's share\"]/df[\"gross\"])*100\n",
    "\n",
    "sns.catplot(x=\"Genre\", y=\"ratio\",  kind=\"bar\", data=df)\n"
   ]
  },
  {
   "cell_type": "code",
   "execution_count": null,
   "metadata": {},
   "outputs": [],
   "source": [
    "#from this plot it can be seen that a Sci-Fi movie is highly profitable in Tamil Nadu ,Compared to a Drama which \n",
    "#gives huge \"Loss\"."
   ]
  },
  {
   "cell_type": "code",
   "execution_count": 245,
   "metadata": {},
   "outputs": [
    {
     "data": {
      "text/html": [
       "<div>\n",
       "<style scoped>\n",
       "    .dataframe tbody tr th:only-of-type {\n",
       "        vertical-align: middle;\n",
       "    }\n",
       "\n",
       "    .dataframe tbody tr th {\n",
       "        vertical-align: top;\n",
       "    }\n",
       "\n",
       "    .dataframe thead th {\n",
       "        text-align: right;\n",
       "    }\n",
       "</style>\n",
       "<table border=\"1\" class=\"dataframe\">\n",
       "  <thead>\n",
       "    <tr style=\"text-align: right;\">\n",
       "      <th></th>\n",
       "      <th>Year</th>\n",
       "      <th>Internet subscription per 100</th>\n",
       "    </tr>\n",
       "  </thead>\n",
       "  <tbody>\n",
       "    <tr>\n",
       "      <th>0</th>\n",
       "      <td>2001</td>\n",
       "      <td>0.004666</td>\n",
       "    </tr>\n",
       "    <tr>\n",
       "      <th>1</th>\n",
       "      <td>2002</td>\n",
       "      <td>0.007562</td>\n",
       "    </tr>\n",
       "    <tr>\n",
       "      <th>2</th>\n",
       "      <td>2003</td>\n",
       "      <td>0.012668</td>\n",
       "    </tr>\n",
       "    <tr>\n",
       "      <th>3</th>\n",
       "      <td>2004</td>\n",
       "      <td>0.020868</td>\n",
       "    </tr>\n",
       "    <tr>\n",
       "      <th>4</th>\n",
       "      <td>2005</td>\n",
       "      <td>0.117820</td>\n",
       "    </tr>\n",
       "  </tbody>\n",
       "</table>\n",
       "</div>"
      ],
      "text/plain": [
       "   Year  Internet subscription per 100\n",
       "0  2001                       0.004666\n",
       "1  2002                       0.007562\n",
       "2  2003                       0.012668\n",
       "3  2004                       0.020868\n",
       "4  2005                       0.117820"
      ]
     },
     "execution_count": 245,
     "metadata": {},
     "output_type": "execute_result"
    }
   ],
   "source": [
    "df2=pd.read_csv(\"internet.csv\")#data \n",
    "df2.head()"
   ]
  },
  {
   "cell_type": "code",
   "execution_count": 251,
   "metadata": {},
   "outputs": [
    {
     "data": {
      "image/png": "[encoded data removed]",
      "text/plain": [
       "<Figure size 432x288 with 1 Axes>"
      ]
     },
     "metadata": {
      "needs_background": "light"
     },
     "output_type": "display_data"
    }
   ],
   "source": [
    "#sns.relplot(x=\"Year\", y=\"Internet subscription per 100\",\n",
    " #           dashes=True, markers=True, kind=\"line\", data=df2);\n",
    "x=df2[\"Year\"]\n",
    "y=df2[\"Internet subscription per 100\"]\n",
    "plt.plot(x,y)\n",
    "plt.show()\n",
    "    \n",
    "    #From the below graph it can be seen that internet users have increased always increased in the years\n",
    "    #and that affects the movie watching audience, as they get access to movies from various platforms like \n",
    "    #Hotstar,Netflix,Amazon which affects the Cost at which Rights of a movie."
   ]
  },
  {
   "cell_type": "code",
   "execution_count": 254,
   "metadata": {},
   "outputs": [
    {
     "data": {
      "text/plain": [
       "<seaborn.axisgrid.FacetGrid at 0x2201f3eca90>"
      ]
     },
     "execution_count": 254,
     "metadata": {},
     "output_type": "execute_result"
    },
    {
     "data": {
      "image/png": "[encoded data removed]",
      "text/plain": [
       "<Figure size 360x360 with 1 Axes>"
      ]
     },
     "metadata": {
      "needs_background": "light"
     },
     "output_type": "display_data"
    }
   ],
   "source": [
    "g=sns.catplot(x=\"Year\", y=\"rights\",  kind=\"bar\", data=df)\n",
    "g.set_xticklabels(rotation=30)\n",
    "#from the below graph it is clear that from year 2016 the rights are sold at higher rates than previous years which is\n",
    "#inter - related to the internet usage increase "
   ]
  },
  {
   "cell_type": "code",
   "execution_count": 255,
   "metadata": {
    "scrolled": true
   },
   "outputs": [],
   "source": [
    "#plt.figure(figsize=(12, 7))\n",
    "#sns.boxplot(x='verdict',y='gross',data=df,palette='winter')\n"
   ]
  },
  {
   "cell_type": "code",
   "execution_count": 201,
   "metadata": {},
   "outputs": [
    {
     "data": {
      "text/plain": [
       "<seaborn.axisgrid.FacetGrid at 0x2201dc56eb8>"
      ]
     },
     "execution_count": 201,
     "metadata": {},
     "output_type": "execute_result"
    },
    {
     "data": {
      "image/png": "[encoded data removed]",
      "text/plain": [
       "<Figure size 360x360 with 1 Axes>"
      ]
     },
     "metadata": {
      "needs_background": "light"
     },
     "output_type": "display_data"
    }
   ],
   "source": [
    "g1=sns.catplot(x=\"Year\", y=\"gross\",  kind=\"bar\", data=df)\n",
    "g1.set_xticklabels(rotation=30)\n",
    "#Although the internet users have increased , from the below graph it is shown the Tamil Nadu movie industry doesn't seem \n",
    "#to lose much money,And it is because of the huge movie lovers who enjoy theatre experience"
   ]
  },
  {
   "cell_type": "code",
   "execution_count": 256,
   "metadata": {},
   "outputs": [
    {
     "data": {
      "text/plain": [
       "<seaborn.axisgrid.FacetGrid at 0x2201f34bf28>"
      ]
     },
     "execution_count": 256,
     "metadata": {},
     "output_type": "execute_result"
    },
    {
     "data": {
      "image/png": "[encoded data removed]",
      "text/plain": [
       "<Figure size 360x360 with 1 Axes>"
      ]
     },
     "metadata": {
      "needs_background": "light"
     },
     "output_type": "display_data"
    }
   ],
   "source": [
    "sns.catplot(x=\"Genre\", y=\"gross\",  kind=\"bar\", data=df)\n",
    "#from the below graph it can be inferred that Sci-Fi and Drama are have earned a lot compared to other genre"
   ]
  },
  {
   "cell_type": "code",
   "execution_count": null,
   "metadata": {},
   "outputs": [],
   "source": []
  }
 ],
 "metadata": {
  "kernelspec": {
   "display_name": "Python 3",
   "language": "python",
   "name": "python3"
  },
  "language_info": {
   "codemirror_mode": {
    "name": "ipython",
    "version": 3
   },
   "file_extension": ".py",
   "mimetype": "text/x-python",
   "name": "python",
   "nbconvert_exporter": "python",
   "pygments_lexer": "ipython3",
   "version": "3.7.3"
  }
 },
 "nbformat": 4,
 "nbformat_minor": 2
}
